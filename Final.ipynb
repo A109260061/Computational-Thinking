{
  "nbformat": 4,
  "nbformat_minor": 0,
  "metadata": {
    "colab": {
      "name": "Final.ipynb",
      "provenance": [],
      "authorship_tag": "ABX9TyPiexCNhaXbgVaUjOtwJ4D5",
      "include_colab_link": true
    },
    "kernelspec": {
      "name": "python3",
      "display_name": "Python 3"
    }
  },
  "cells": [
    {
      "cell_type": "markdown",
      "metadata": {
        "id": "view-in-github",
        "colab_type": "text"
      },
      "source": [
        "<a href=\"https://colab.research.google.com/github/A109260061/Computational-Thinking/blob/master/Final.ipynb\" target=\"_parent\"><img src=\"https://colab.research.google.com/assets/colab-badge.svg\" alt=\"Open In Colab\"/></a>"
      ]
    },
    {
      "cell_type": "code",
      "metadata": {
        "colab": {
          "base_uri": "https://localhost:8080/"
        },
        "id": "ybPxzAeClGnL",
        "outputId": "a365e31a-b07a-4b8b-be91-78388ff56ec1"
      },
      "source": [
        "print(\"威哥:欸,到了遊樂園想玩些啥啊?\")\r\n",
        "list1=(\"'海盜船','雲霄飛車',大怒神還是鬼屋'?\")\r\n",
        "print(\"玩啥呢?\")\r\n",
        "print(list1)\r\n",
        "玩啥呢=int(input(\"玩啥呢?,0海盜船1雲霄飛車2大怒神3鬼屋\"))\r\n",
        "if 玩啥呢==0:\r\n",
        "  print(\"ok,走\")\r\n",
        "if 玩啥呢==1:\r\n",
        "  print(\"ok,走\")\r\n",
        "if 玩啥呢==2:\r\n",
        "  print(\"ok,走\")\r\n",
        "if 玩啥呢==3:\r\n",
        "  print(\"ok,走\")\r\n",
        "print(\"緯鳴:可是我比較想玩旋轉木馬欸,那個才夠驚險刺激\")\r\n",
        "print(\"勝元:就是說啊,摩天輪也行,男人就是要玩那種的\")\r\n",
        "print(\"哲哥:蛤?供三小\")\r\n",
        "print(\"孔雀王李林宏:比起玩遊樂園,我比較想幹野獸欸\")\r\n",
        "print(\"鴨哥:幹哪種野獸都行,就是不准幹鴨子\")\r\n",
        "print(\"易璋:哈哈哈 笑死\")"
      ],
      "execution_count": 13,
      "outputs": [
        {
          "output_type": "stream",
          "text": [
            "威哥:欸,到了遊樂園想玩些啥啊?\n",
            "玩啥呢?\n",
            "'海盜船','雲霄飛車',大怒神還是鬼屋'?\n",
            "玩啥呢?,0海盜船1雲霄飛車2大怒神3鬼屋1\n",
            "ok,走\n",
            "緯鳴:可是我比較想玩旋轉木馬欸,那個才夠驚險刺激\n",
            "勝元:就是說啊,摩天輪也行,男人就是要玩那種的\n",
            "哲哥:蛤?供三小\n",
            "孔雀王李林宏:比起玩遊樂園,我比較想幹野獸欸\n",
            "鴨哥:幹哪種野獸都行,就是不准幹鴨子\n",
            "易璋:哈哈哈 笑死\n"
          ],
          "name": "stdout"
        }
      ]
    }
  ]
}