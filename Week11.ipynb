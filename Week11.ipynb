{
  "nbformat": 4,
  "nbformat_minor": 0,
  "metadata": {
    "colab": {
      "name": "Untitled",
      "provenance": [],
      "authorship_tag": "ABX9TyOGA02WkvQmIii2eJ7w2goQ",
      "include_colab_link": true
    },
    "kernelspec": {
      "name": "python3",
      "display_name": "Python 3"
    }
  },
  "cells": [
    {
      "cell_type": "markdown",
      "metadata": {
        "id": "view-in-github",
        "colab_type": "text"
      },
      "source": [
        "<a href=\"https://colab.research.google.com/github/A109260061/Computational-Thinking/blob/master/Week11.ipynb\" target=\"_parent\"><img src=\"https://colab.research.google.com/assets/colab-badge.svg\" alt=\"Open In Colab\"/></a>"
      ]
    },
    {
      "cell_type": "markdown",
      "metadata": {
        "id": "otHVUfa1aaRi"
      },
      "source": [
        "分組"
      ]
    },
    {
      "cell_type": "code",
      "metadata": {
        "colab": {
          "base_uri": "https://localhost:8080/"
        },
        "id": "KM8ZCJivVZ-y",
        "outputId": "954bd63a-8c5f-4470-b4f5-e8288eae2498"
      },
      "source": [
        "# 商數餘數\n",
        "## Input\n",
        "seat = input(\"Enter a seat number? \")\n",
        "seat = int(seat)\n",
        "## Process\n",
        "group = (seat - 1) // 5 + 1\n",
        "## Output\n",
        "print(\"Group is\", group)"
      ],
      "execution_count": null,
      "outputs": [
        {
          "output_type": "stream",
          "text": [
            "Enter a seat number? 19\n",
            "Group is 4\n"
          ],
          "name": "stdout"
        }
      ]
    },
    {
      "cell_type": "code",
      "metadata": {
        "colab": {
          "base_uri": "https://localhost:8080/"
        },
        "id": "brCLaZkecQKb",
        "outputId": "a918af33-3553-4431-916e-3c692ecddd99"
      },
      "source": [
        "# 四捨五入 無條件進位\n",
        "## Input\n",
        "seat = int(input(\"Enter a seat number?\"))\n",
        "\n",
        "## Process\n",
        "import math\n",
        "group = math.ceil(seat/5)\n",
        "\n",
        "## Output\n",
        "print(\"Group is\", group)"
      ],
      "execution_count": null,
      "outputs": [
        {
          "output_type": "stream",
          "text": [
            "Enter a seat number?19\n",
            "Group is 4\n"
          ],
          "name": "stdout"
        }
      ]
    },
    {
      "cell_type": "code",
      "metadata": {
        "colab": {
          "base_uri": "https://localhost:8080/"
        },
        "id": "TLyL7rbud58K",
        "outputId": "e8e02663-29aa-463e-a901-f0287dff7a44"
      },
      "source": [
        "# 方法(三) : 看餘數, 用條件句\n",
        "number = int(input(\"Enter a number?\"))\n",
        "if number%5 == 0:\n",
        "  print(\"Group is\", number//5)\n",
        "else:\n",
        "  print(\"Group is\", number//5 +1)"
      ],
      "execution_count": null,
      "outputs": [
        {
          "output_type": "stream",
          "text": [
            "Enter a number?19\n",
            "Group is 4\n"
          ],
          "name": "stdout"
        }
      ]
    },
    {
      "cell_type": "code",
      "metadata": {
        "id": "DB2YSPexfhRt"
      },
      "source": [
        ""
      ],
      "execution_count": null,
      "outputs": []
    }
  ]
}