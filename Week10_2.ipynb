{
  "nbformat": 4,
  "nbformat_minor": 0,
  "metadata": {
    "colab": {
      "name": "Week10.2",
      "provenance": [],
      "authorship_tag": "ABX9TyNW0NQOzgYKs79vNJfgY4cY",
      "include_colab_link": true
    },
    "kernelspec": {
      "name": "python3",
      "display_name": "Python 3"
    }
  },
  "cells": [
    {
      "cell_type": "markdown",
      "metadata": {
        "id": "view-in-github",
        "colab_type": "text"
      },
      "source": [
        "<a href=\"https://colab.research.google.com/github/A109260061/Computational-Thinking/blob/master/Week10_2.ipynb\" target=\"_parent\"><img src=\"https://colab.research.google.com/assets/colab-badge.svg\" alt=\"Open In Colab\"/></a>"
      ]
    },
    {
      "cell_type": "code",
      "metadata": {
        "colab": {
          "base_uri": "https://localhost:8080/"
        },
        "id": "E7auxiTzRkee",
        "outputId": "cadbda36-c8f1-4daa-9253-f5439973e5fe"
      },
      "source": [
        "# Input Data\n",
        "time=123\n",
        "\n",
        "# Process\n",
        "hour=time//60#商數\n",
        "minute=time%60#餘數\n",
        "\n",
        "# Output\n",
        "\n",
        "print(time, \"是\", hour, \"小時\", minute, \"分鐘\")\n",
        "\n",
        "## Process\n",
        "hour1=int(time/60)#除法與整數\n",
        "minute1=((time/60)-hour1)*60\n",
        "import math\n",
        "round(minute1)"
      ],
      "execution_count": 8,
      "outputs": [
        {
          "output_type": "stream",
          "text": [
            "123 是 2 小時 3 分鐘\n"
          ],
          "name": "stdout"
        },
        {
          "output_type": "execute_result",
          "data": {
            "text/plain": [
              "3"
            ]
          },
          "metadata": {
            "tags": []
          },
          "execution_count": 8
        }
      ]
    }
  ]
}