{
  "nbformat": 4,
  "nbformat_minor": 0,
  "metadata": {
    "colab": {
      "name": "林威廷-week9-1.ipynb",
      "provenance": [],
      "authorship_tag": "ABX9TyOsROlUh6u9z6XZY/SzIF7G",
      "include_colab_link": true
    },
    "kernelspec": {
      "name": "python3",
      "display_name": "Python 3"
    }
  },
  "cells": [
    {
      "cell_type": "markdown",
      "metadata": {
        "id": "view-in-github",
        "colab_type": "text"
      },
      "source": [
        "<a href=\"https://colab.research.google.com/github/A109260061/Computational-Thinking/blob/master/%E6%9E%97%E5%A8%81%E5%BB%B7_week9_1.ipynb\" target=\"_parent\"><img src=\"https://colab.research.google.com/assets/colab-badge.svg\" alt=\"Open In Colab\"/></a>"
      ]
    },
    {
      "cell_type": "code",
      "metadata": {
        "id": "rdnklKzPg3Yd",
        "outputId": "984d49bb-f422-4be9-9d6d-8b68b1c2397e",
        "colab": {
          "base_uri": "https://localhost:8080/"
        }
      },
      "source": [
        "Cans = int(input(\"請輸入購買的飲料罐數?\"))\n",
        "Total = (Cans//12)*200 + (Cans%12)*20\n",
        "print (\"需花費\",Total)"
      ],
      "execution_count": 4,
      "outputs": [
        {
          "output_type": "stream",
          "text": [
            "請輸入購買的飲料罐數?30\n",
            "需花費 520\n"
          ],
          "name": "stdout"
        }
      ]
    },
    {
      "cell_type": "markdown",
      "metadata": {
        "id": "1Xf_q9ble-mr"
      },
      "source": [
        ""
      ]
    },
    {
      "cell_type": "code",
      "metadata": {
        "id": "4AfTOZH9ecn4",
        "outputId": "36451505-fa68-41c4-a200-a1441e9548ef",
        "colab": {
          "base_uri": "https://localhost:8080/"
        }
      },
      "source": [
        "X = int(input(\"請輸入上衣的數量? \"))\n",
        "Y = int(input(\"輸入褲子的數量? \"))\n",
        "Z = int(input(\"請輸入背心的數量? \"))\n",
        "\n",
        "Total = 300*X + 350*Y + 400*Z\n",
        "\n",
        "print(\"訂購服裝的總金額為?\", Total)\n"
      ],
      "execution_count": 6,
      "outputs": [
        {
          "output_type": "stream",
          "text": [
            "請輸入上衣的數量? 5\n",
            "輸入褲子的數量? 5\n",
            "請輸入背心的數量? 5\n",
            "訂購服裝的總金額為? 5250\n"
          ],
          "name": "stdout"
        }
      ]
    },
    {
      "cell_type": "code",
      "metadata": {
        "id": "aCl22-mikL29",
        "outputId": "8bad7d02-9749-40ad-b4a3-4a1ecbd581ab",
        "colab": {
          "base_uri": "https://localhost:8080/"
        }
      },
      "source": [
        "first = int(input(\"請輸入第一次期中考成績? \"))\n",
        "second = int(input(\"請輸入第二次期中考成績? \"))\n",
        "final = int(input(\"請輸入期末考成績? \"))\n",
        "total = first + second + final\n",
        "average = total / 3\n",
        "print(\"總分為\", total, \"平均為\", average)"
      ],
      "execution_count": 7,
      "outputs": [
        {
          "output_type": "stream",
          "text": [
            "請輸入第一次期中考成績? 75\n",
            "請輸入第二次期中考成績? 80\n",
            "請輸入期末考成績? 65\n",
            "總分為 220 平均為 73.33333333333333\n"
          ],
          "name": "stdout"
        }
      ]
    }
  ]
}