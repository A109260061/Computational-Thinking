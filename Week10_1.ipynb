{
  "nbformat": 4,
  "nbformat_minor": 0,
  "metadata": {
    "colab": {
      "name": "Week10.1",
      "provenance": [],
      "authorship_tag": "ABX9TyOe1BJwfJMeo0HFDYzpMOBb",
      "include_colab_link": true
    },
    "kernelspec": {
      "name": "python3",
      "display_name": "Python 3"
    }
  },
  "cells": [
    {
      "cell_type": "markdown",
      "metadata": {
        "id": "view-in-github",
        "colab_type": "text"
      },
      "source": [
        "<a href=\"https://colab.research.google.com/github/A109260061/Computational-Thinking/blob/master/Week10_1.ipynb\" target=\"_parent\"><img src=\"https://colab.research.google.com/assets/colab-badge.svg\" alt=\"Open In Colab\"/></a>"
      ]
    },
    {
      "cell_type": "code",
      "metadata": {
        "colab": {
          "base_uri": "https://localhost:8080/"
        },
        "id": "E7auxiTzRkee",
        "outputId": "b86c4f69-d7ac-4689-85d6-c4d4dccbd524"
      },
      "source": [
        "# 寫程式是怎麼一回事\n",
        "\n",
        "## Question:[魔球]那部電影值不值得看? 老闆想了解一下那部電影的相關資訊\n",
        "\n",
        "# Step1:上網找 哪裡找 找什麼 如何回覆\n",
        "## 從IMBD電影資料庫找出要記錄的魔球電影相關資訊\n",
        "## 網址:https://www.imbd.com/title//tt1210166/\n",
        "## 相關資訊:電影名稱,放映日期......\n",
        "\n",
        "# Step2:input-Process-Output\n",
        "\n",
        "## 輸入資料\n",
        "## 處理\n",
        "## 輸出資料\n",
        "\n",
        "# Step3:Coding\n",
        "\n",
        "movie_title= \"money ball\"\n",
        "release_year= \"2011\"\n",
        "director_name= \"班奈特米勒\"\n",
        "actor_name= \"布萊德彼特\"\n",
        "publishingcompany_name= \"哥倫比亞電影公司\"\n",
        "\n",
        "print(\"電影英文名稱\",movie_title)\n",
        "print(\"上映時間\",release_year)\n",
        "print(\"導演名字\",director_name)\n",
        "print(\"演員名字\",actor_name)\n",
        "print(\"出版公司\",publishingcompany_name)"
      ],
      "execution_count": 7,
      "outputs": [
        {
          "output_type": "stream",
          "text": [
            "電影英文名稱 money ball\n",
            "上映時間 2011\n",
            "導演名字 班奈特米勒\n",
            "演員名字 布萊德彼特\n",
            "出版公司 哥倫比亞電影公司\n"
          ],
          "name": "stdout"
        }
      ]
    }
  ]
}